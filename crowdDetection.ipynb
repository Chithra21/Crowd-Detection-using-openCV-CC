{
  "cells": [
    {
      "cell_type": "code",
      "execution_count": 4,
      "metadata": {
        "id": "4ie7TR-XyGb5"
      },
      "outputs": [],
      "source": [
        "import numpy as np\n",
        "import cv2\n",
        "import os\n",
        "import time\n",
        "from scipy.spatial import distance as distance\n",
        "import cmath\n",
        "import imutils\n",
        "import base64\n",
        "import requests"
      ]
    },
    {
      "cell_type": "code",
      "execution_count": 5,
      "metadata": {
        "colab": {
          "base_uri": "https://localhost:8080/"
        },
        "id": "ZcxvKEUfyGb7",
        "outputId": "635239e7-9ddc-45d0-a1dc-f9bd24cbfbf9"
      },
      "outputs": [
        {
          "output_type": "stream",
          "name": "stdout",
          "text": [
            "Requirement already satisfied: opencv-python in /usr/local/lib/python3.10/dist-packages (4.10.0.84)\n",
            "Requirement already satisfied: numpy>=1.21.2 in /usr/local/lib/python3.10/dist-packages (from opencv-python) (1.26.4)\n"
          ]
        }
      ],
      "source": [
        "!pip3 install opencv-python"
      ]
    },
    {
      "cell_type": "code",
      "execution_count": 6,
      "metadata": {
        "colab": {
          "base_uri": "https://localhost:8080/"
        },
        "id": "wnygXOawyGb8",
        "outputId": "52368b1b-a7a8-45bd-d5fa-6932cd2381e2"
      },
      "outputs": [
        {
          "output_type": "stream",
          "name": "stdout",
          "text": [
            "Requirement already satisfied: imutils in /usr/local/lib/python3.10/dist-packages (0.5.4)\n"
          ]
        }
      ],
      "source": [
        "!pip3 install imutils"
      ]
    },
    {
      "cell_type": "code",
      "execution_count": 7,
      "metadata": {
        "colab": {
          "base_uri": "https://localhost:8080/",
          "height": 36
        },
        "id": "BUSoNdOUyGb8",
        "outputId": "a5491176-fea0-401d-ebcb-effb76cf4133"
      },
      "outputs": [
        {
          "output_type": "execute_result",
          "data": {
            "text/plain": [
              "'person'"
            ],
            "application/vnd.google.colaboratory.intrinsic+json": {
              "type": "string"
            }
          },
          "metadata": {},
          "execution_count": 7
        }
      ],
      "source": [
        "labelpath='/content/coco.names'\n",
        "file=open(labelpath)\n",
        "label=file.read().strip().split(\"\\n\")\n",
        "label[0]"
      ]
    },
    {
      "cell_type": "code",
      "execution_count": 8,
      "metadata": {
        "id": "Q0vXqBSeyGb9"
      },
      "outputs": [],
      "source": [
        "weightspath=r'/content/yolov3.weights'\n",
        "configpath=r'/content/yolov3.cfg'"
      ]
    },
    {
      "cell_type": "code",
      "execution_count": 9,
      "metadata": {
        "id": "lGej6LLcyGb9"
      },
      "outputs": [],
      "source": [
        "net=cv2.dnn.readNetFromDarknet(configpath,weightspath)"
      ]
    },
    {
      "cell_type": "code",
      "execution_count": 10,
      "metadata": {
        "id": "Jkx0sTQtyGb9"
      },
      "outputs": [],
      "source": [
        "videopath=r'/content/Video/run.mp4'"
      ]
    },
    {
      "cell_type": "code",
      "execution_count": 11,
      "metadata": {
        "colab": {
          "base_uri": "https://localhost:8080/",
          "height": 234
        },
        "id": "Oj4TjvcAyGb-",
        "outputId": "026d8b1f-ec16-444b-a652-2919b56249d6"
      },
      "outputs": [
        {
          "output_type": "error",
          "ename": "IndexError",
          "evalue": "invalid index to scalar variable.",
          "traceback": [
            "\u001b[0;31m---------------------------------------------------------------------------\u001b[0m",
            "\u001b[0;31mIndexError\u001b[0m                                Traceback (most recent call last)",
            "\u001b[0;32m<ipython-input-11-f879fb2647f7>\u001b[0m in \u001b[0;36m<cell line: 2>\u001b[0;34m()\u001b[0m\n\u001b[1;32m      1\u001b[0m \u001b[0mln\u001b[0m\u001b[0;34m=\u001b[0m\u001b[0mnet\u001b[0m\u001b[0;34m.\u001b[0m\u001b[0mgetLayerNames\u001b[0m\u001b[0;34m(\u001b[0m\u001b[0;34m)\u001b[0m\u001b[0;34m\u001b[0m\u001b[0;34m\u001b[0m\u001b[0m\n\u001b[0;32m----> 2\u001b[0;31m \u001b[0mln\u001b[0m \u001b[0;34m=\u001b[0m \u001b[0;34m[\u001b[0m\u001b[0mln\u001b[0m\u001b[0;34m[\u001b[0m\u001b[0mi\u001b[0m\u001b[0;34m[\u001b[0m\u001b[0;36m0\u001b[0m\u001b[0;34m]\u001b[0m \u001b[0;34m-\u001b[0m \u001b[0;36m1\u001b[0m\u001b[0;34m]\u001b[0m \u001b[0;32mfor\u001b[0m \u001b[0mi\u001b[0m \u001b[0;32min\u001b[0m \u001b[0mnet\u001b[0m\u001b[0;34m.\u001b[0m\u001b[0mgetUnconnectedOutLayers\u001b[0m\u001b[0;34m(\u001b[0m\u001b[0;34m)\u001b[0m\u001b[0;34m]\u001b[0m\u001b[0;34m\u001b[0m\u001b[0;34m\u001b[0m\u001b[0m\n\u001b[0m",
            "\u001b[0;32m<ipython-input-11-f879fb2647f7>\u001b[0m in \u001b[0;36m<listcomp>\u001b[0;34m(.0)\u001b[0m\n\u001b[1;32m      1\u001b[0m \u001b[0mln\u001b[0m\u001b[0;34m=\u001b[0m\u001b[0mnet\u001b[0m\u001b[0;34m.\u001b[0m\u001b[0mgetLayerNames\u001b[0m\u001b[0;34m(\u001b[0m\u001b[0;34m)\u001b[0m\u001b[0;34m\u001b[0m\u001b[0;34m\u001b[0m\u001b[0m\n\u001b[0;32m----> 2\u001b[0;31m \u001b[0mln\u001b[0m \u001b[0;34m=\u001b[0m \u001b[0;34m[\u001b[0m\u001b[0mln\u001b[0m\u001b[0;34m[\u001b[0m\u001b[0mi\u001b[0m\u001b[0;34m[\u001b[0m\u001b[0;36m0\u001b[0m\u001b[0;34m]\u001b[0m \u001b[0;34m-\u001b[0m \u001b[0;36m1\u001b[0m\u001b[0;34m]\u001b[0m \u001b[0;32mfor\u001b[0m \u001b[0mi\u001b[0m \u001b[0;32min\u001b[0m \u001b[0mnet\u001b[0m\u001b[0;34m.\u001b[0m\u001b[0mgetUnconnectedOutLayers\u001b[0m\u001b[0;34m(\u001b[0m\u001b[0;34m)\u001b[0m\u001b[0;34m]\u001b[0m\u001b[0;34m\u001b[0m\u001b[0;34m\u001b[0m\u001b[0m\n\u001b[0m",
            "\u001b[0;31mIndexError\u001b[0m: invalid index to scalar variable."
          ]
        }
      ],
      "source": [
        "ln=net.getLayerNames()\n",
        "ln = [ln[i[0] - 1] for i in net.getUnconnectedOutLayers()]\n"
      ]
    },
    {
      "cell_type": "code",
      "execution_count": null,
      "metadata": {
        "id": "ENLbBgBByGb-"
      },
      "outputs": [],
      "source": [
        "URL_EDUCATIONAL = \"http://things.ubidots.com\"\n",
        "URL_INDUSTRIAL = \"http://industrial.api.ubidots.com\"\n",
        "INDUSTRIAL_USER = True  # Set this to False if you are an educational user\n",
        "TOKEN = \"\"  # Put here your Ubidots TOKEN\n",
        "DEVICE = \"detector\"  # Device where will be stored the result\n",
        "VARIABLE = \"people\"  # Variable where will be stored the result\n",
        "\n"
      ]
    },
    {
      "cell_type": "code",
      "execution_count": null,
      "metadata": {
        "id": "vKOJQo4oyGb-"
      },
      "outputs": [],
      "source": [
        "\"\"\"def buildPayload(variable, value):\n",
        "    return {variable: {\"value\": value}}\"\"\""
      ]
    },
    {
      "cell_type": "code",
      "execution_count": null,
      "metadata": {
        "id": "n_Sc8mRHyGb_"
      },
      "outputs": [],
      "source": [
        "def buildPayload(variable, value, context):\n",
        "    return {variable: {\"value\": value, \"context\": context}}"
      ]
    },
    {
      "cell_type": "code",
      "execution_count": null,
      "metadata": {
        "id": "Ayh1ql4HyGb_"
      },
      "outputs": [],
      "source": [
        "def convert_to_base64(image):\n",
        "    image = imutils.resize(image, width=300)\n",
        "    img_str = cv2.imencode('.png', image)[1].tostring()\n",
        "    b64 = base64.b64encode(img_str)\n",
        "\n",
        "    return b64.decode('utf-8')"
      ]
    },
    {
      "cell_type": "code",
      "execution_count": null,
      "metadata": {
        "id": "lXtS25XLyGb_"
      },
      "outputs": [],
      "source": [
        "def sendToUbidots(token, device, variable, value, context={}, industrial=True):\n",
        "    # Builds the endpoint\n",
        "    url = URL_INDUSTRIAL if industrial else URL_EDUCATIONAL\n",
        "    url = \"{}/api/v1.6/devices/{}\".format(url, device)\n",
        "\n",
        "    payload = buildPayload(variable, value,context)\n",
        "    headers = {\"X-Auth-Token\": token, \"Content-Type\": \"application/json\"}\n",
        "\n",
        "    attempts = 0\n",
        "    status = 400\n",
        "\n",
        "    while status >= 400 and attempts <= 5:\n",
        "        req = requests.post(url=url, headers=headers, json=payload)\n",
        "        status = req.status_code\n",
        "        attempts += 1\n",
        "        time.sleep(1)\n",
        "        print(req)\n",
        "\n",
        "    return req"
      ]
    },
    {
      "cell_type": "code",
      "execution_count": null,
      "metadata": {
        "id": "Ades5wrnyGb_"
      },
      "outputs": [],
      "source": [
        "video=cv2.VideoCapture(videopath)\n",
        "ret = video\n",
        "init=time.time()\n",
        "sample_time=5\n",
        "if sample_time < 1:\n",
        "        sample_time = 1\n",
        "while(True):\n",
        "\n",
        "\n",
        "    ret,frame=video.read()\n",
        "    if ret==False:\n",
        "        print('Error running the file :(')\n",
        "    frame=cv2.resize(frame, (640,440), interpolation =cv2.INTER_AREA)\n",
        "    blob = cv2.dnn.blobFromImage(frame, 1/255.0, (416, 416), swapRB=True, crop=False)\n",
        "    r = blob[0, 0, :, :]\n",
        "    net.setInput(blob)\n",
        "    t0 = time.time()\n",
        "    outputs = net.forward(ln)\n",
        "    t = time.time()\n",
        "\n",
        "    boxes = []\n",
        "    confidences = []\n",
        "    classIDs = []\n",
        "    center=[]\n",
        "    output=[]\n",
        "    count=0\n",
        "    results=[]\n",
        "    breach=set()\n",
        "\n",
        "    h, w = frame.shape[:2]\n",
        "    for output in outputs:\n",
        "        for detection in output:\n",
        "            scores = detection[5:]\n",
        "            classID = np.argmax(scores)\n",
        "\n",
        "            confidence = scores[classID]\n",
        "\n",
        "            if confidence > 0.5:\n",
        "                box = detection[0:4] * np.array([w, h, w, h])\n",
        "                (centerX, centerY, width, height) = box.astype(\"int\")\n",
        "                x = int(centerX - (width / 2))\n",
        "                y = int(centerY - (height / 2))\n",
        "                center.append((centerX,centerY))\n",
        "                box = [x, y, int(width), int(height)]\n",
        "                boxes.append(box)\n",
        "                confidences.append(float(confidence))\n",
        "                classIDs.append(classID)\n",
        "\n",
        "    indices = cv2.dnn.NMSBoxes(boxes, confidences, 0.5, 0.4)\n",
        "\n",
        "    if len(indices) > 0:\n",
        "        for i in indices.flatten():\n",
        "            (x, y) = (boxes[i][0], boxes[i][1])\n",
        "            (w, h) = (boxes[i][2], boxes[i][3])\n",
        "            #color = [int(c) for c in colors[classIDs[i]]]\n",
        "            if(label[classIDs[i]]=='person'):\n",
        "                #people()\n",
        "                cX=(int)(x+(y/2))\n",
        "                cY=(int)(w+(h/2))\n",
        "                center.append((cX,cY))\n",
        "                res=((x,y,x+w,y+h),center[i])\n",
        "                results.append(res)\n",
        "                dist=cmath.sqrt(((center[i][0]-center[i+1][0])**2)+((center[i][1]-center[i+1][1])**2))\n",
        "                if(dist.real <100):\n",
        "                    cv2.rectangle(frame,(x,y),(x+w,y+h),(0,0,255), 2)\n",
        "                    cv2.circle(frame,center[i],4,(0,0,255),-1)\n",
        "                    #cv2.line(frame, (center[i][0], center[i][1]), (center[i+1][0], center[i+1][1]), (0,0, 255), thickness=3, lineType=8)\n",
        "                    count=count+1\n",
        "\n",
        "                else:\n",
        "                    cv2.rectangle(frame,(x,y),(x+w,y+h),(0,255,0), 2)\n",
        "                    cv2.circle(frame,center[i],4,(0,255,0),-1)\n",
        "        #cv2.rectangle(frame,(startX, startY), (endX, endY),color, 2)\n",
        "        #cv2.circle(frame,(cX,cY),4,color,-1)\n",
        "        cv2.putText(frame,\"Violation: {}\".format(count), (20, frame.shape[0] - 5), cv2.FONT_HERSHEY_SIMPLEX, 0.5, (23,255,255), 1)\n",
        "        if time.time() - init >=sample_time:\n",
        "            print(\"[INFO] Sending actual frame results\")\n",
        "            # Converts the image to base 64 and adds it to the context\n",
        "            b64 = convert_to_base64(frame)\n",
        "            context = {\"image\": b64}\n",
        "            sendToUbidots(TOKEN, DEVICE,VARIABLE,count,context=context)\n",
        "            init = time.time()\n",
        "\n",
        "\n",
        "\n",
        "\n",
        "\n",
        "    #cv2.putText(frame,\"Violation: {}\".format(count), (20, frame.shape[0] - 5), cv2.FONT_HERSHEY_SIMPLEX, 0.5, (23,255,255), 1)\n",
        "\n",
        "    #frame_blob=makeblob(frame)\n",
        "    cv2.imshow('Frame',frame)\n",
        "    #cv2.VideoWriter(r'C:\\Users\\Lenovo\\Desktop\\Crowd Detection\\video\\walk2.mp4', cv2.VideoWriter_fourcc(*'MJPG'), 10, (640,440)).write(frame)\n",
        "\n",
        "    if(cv2.waitKey(1)==ord('q')):\n",
        "        break\n",
        "video.release()\n",
        "cv2.destroyAllWindows()"
      ]
    },
    {
      "cell_type": "code",
      "execution_count": null,
      "metadata": {
        "id": "W7zIBqQkyGcA"
      },
      "outputs": [],
      "source": []
    }
  ],
  "metadata": {
    "kernelspec": {
      "display_name": "Python 3",
      "language": "python",
      "name": "python3"
    },
    "language_info": {
      "codemirror_mode": {
        "name": "ipython",
        "version": 3
      },
      "file_extension": ".py",
      "mimetype": "text/x-python",
      "name": "python",
      "nbconvert_exporter": "python",
      "pygments_lexer": "ipython3",
      "version": "3.8.3"
    },
    "colab": {
      "provenance": []
    }
  },
  "nbformat": 4,
  "nbformat_minor": 0
}